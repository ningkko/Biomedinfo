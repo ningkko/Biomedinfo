{
 "cells": [
  {
   "cell_type": "code",
   "execution_count": 1,
   "metadata": {},
   "outputs": [
    {
     "data": {
      "text/plain": [
       "4"
      ]
     },
     "execution_count": 1,
     "metadata": {},
     "output_type": "execute_result"
    }
   ],
   "source": [
    "#Compute Count(CGCGATACGTTACATACATGATAGACCGCGCGCGATCATATCGCGATTATC, CGCG).\n",
    "\n",
    "str.count(\"CGCGATACGTTACATACATGATAGACCGCGCGCGATCATATCGCGATTATC\",\"CGCG\")"
   ]
  },
  {
   "cell_type": "code",
   "execution_count": 7,
   "metadata": {},
   "outputs": [
    {
     "data": {
      "text/plain": [
       "[('AGG', 4),\n",
       " ('GGA', 3),\n",
       " ('GAC', 2),\n",
       " ('TAG', 2),\n",
       " ('GGT', 2),\n",
       " ('TCA', 2),\n",
       " ('CAT', 2),\n",
       " ('CGG', 1),\n",
       " ('GAG', 1),\n",
       " ('ACT', 1),\n",
       " ('CTC', 1),\n",
       " ('TCT', 1),\n",
       " ('CTA', 1),\n",
       " ('GTA', 1),\n",
       " ('TAA', 1),\n",
       " ('AAC', 1),\n",
       " ('ACG', 1),\n",
       " ('CGC', 1),\n",
       " ('GCT', 1),\n",
       " ('CTT', 1),\n",
       " ('TTA', 1),\n",
       " ('TAT', 1),\n",
       " ('ATC', 1),\n",
       " ('CAG', 1),\n",
       " ('GTC', 1),\n",
       " ('TCC', 1),\n",
       " ('CCA', 1),\n",
       " ('ATA', 1),\n",
       " ('ACA', 1),\n",
       " ('ATT', 1),\n",
       " ('TTC', 1)]"
      ]
     },
     "execution_count": 7,
     "metadata": {},
     "output_type": "execute_result"
    }
   ],
   "source": [
    "#What is the most frequent 3-mer of CGGAGGACTCTAGGTAACGCTTATCAGGTCCATAGGACATTCA?\n",
    "\n",
    "base = \"CGGAGGACTCTAGGTAACGCTTATCAGGTCCATAGGACATTCA\"\n",
    "\n",
    "def get_all_k_mer(string, k=1):\n",
    "    length = len(string)\n",
    "    return [string[i: i+ k] for i in range(length-k+1)]\n",
    "\n",
    "import collections\n",
    "collections.Counter(get_all_k_mer(base,k=3,)).most_common()"
   ]
  },
  {
   "cell_type": "code",
   "execution_count": 14,
   "metadata": {},
   "outputs": [
    {
     "data": {
      "text/plain": [
       "Seq('TGTAATC')"
      ]
     },
     "execution_count": 14,
     "metadata": {},
     "output_type": "execute_result"
    }
   ],
   "source": [
    "#What is the reverse complement of GATTACA?\n",
    "import Bio\n",
    "from Bio.Seq import Seq\n",
    "seq = Seq(\"GATTACA\")\n",
    "seq.reverse_complement()"
   ]
  },
  {
   "cell_type": "code",
   "execution_count": 12,
   "metadata": {},
   "outputs": [
    {
     "data": {
      "text/plain": [
       "Seq('GAUUACA', RNAAlphabet())"
      ]
     },
     "execution_count": 12,
     "metadata": {},
     "output_type": "execute_result"
    }
   ],
   "source": [
    "seq.transcribe()"
   ]
  },
  {
   "cell_type": "code",
   "execution_count": 13,
   "metadata": {},
   "outputs": [
    {
     "name": "stderr",
     "output_type": "stream",
     "text": [
      "/usr/local/lib/python3.7/site-packages/Bio/Seq.py:2859: BiopythonWarning: Partial codon, len(sequence) not a multiple of three. Explicitly trim the sequence or add trailing N before translation. This may become an error in future.\n",
      "  BiopythonWarning,\n"
     ]
    },
    {
     "data": {
      "text/plain": [
       "Seq('DY', ExtendedIUPACProtein())"
      ]
     },
     "execution_count": 13,
     "metadata": {},
     "output_type": "execute_result"
    }
   ],
   "source": [
    "seq.translate()\n"
   ]
  },
  {
   "cell_type": "code",
   "execution_count": 16,
   "metadata": {},
   "outputs": [],
   "source": [
    "complement = {'A': 'T', 'C': 'G', 'G': 'C', 'T': 'A'}\n",
    "seq = \"GATTACA\"\n",
    "reverse_complement = \"\".join(complement.get(base) for base in reversed(seq))"
   ]
  },
  {
   "cell_type": "code",
   "execution_count": 17,
   "metadata": {},
   "outputs": [
    {
     "data": {
      "text/plain": [
       "'TGTAATC'"
      ]
     },
     "execution_count": 17,
     "metadata": {},
     "output_type": "execute_result"
    }
   ],
   "source": [
    "reverse_complement"
   ]
  },
  {
   "cell_type": "code",
   "execution_count": null,
   "metadata": {},
   "outputs": [],
   "source": []
  }
 ],
 "metadata": {
  "kernelspec": {
   "display_name": "Python 3",
   "language": "python",
   "name": "python3"
  },
  "language_info": {
   "codemirror_mode": {
    "name": "ipython",
    "version": 3
   },
   "file_extension": ".py",
   "mimetype": "text/x-python",
   "name": "python",
   "nbconvert_exporter": "python",
   "pygments_lexer": "ipython3",
   "version": "3.7.6"
  }
 },
 "nbformat": 4,
 "nbformat_minor": 4
}
