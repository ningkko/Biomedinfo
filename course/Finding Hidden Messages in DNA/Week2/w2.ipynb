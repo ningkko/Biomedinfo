{
 "cells": [
  {
   "cell_type": "markdown",
   "metadata": {},
   "source": [
    "# Week 2 Notes\n",
    "\n",
    "## Website\n",
    "- https://www.coursera.org/learn/dna-analysis/home/week/2 \n",
    "- https://stepik.org/lesson/5/step/3?unit=8221 \n",
    "\n",
    "## 1. Asymmetry of Replication\n",
    "### [A helpful video for the replication process](https://www.youtube.com/watch?v=TNKWgcFPHqw) \n",
    "- DNA polymerases can only unidirectionally copy DNA, meaning that they can only traverse a template strand of DNA in the 3' → 5' direction, which is opposite from the 5’ → 3’ direction of DNA.\n",
    "![DNAreplication.png](image/DNAreplication.png)\n",
    "- On a forward half-strand, in order to replicate DNA, a DNA polymerase must wait for the replication fork to open a little (approximately 2,000 nucleotides) until a new primer is formed at the end of the replication fork; afterwards, the DNA polymerase starts replicating a small chunk of DNA starting from this primer and moving backward in the direction of ori.\n",
    "![uniDirection.png](image/uniDirection.png)\n",
    "- **One Okazaki segment**\n",
    "![oneSegment.png](image/oneSegment.png)\n",
    "- **Okazaki Fragments**\n",
    "![fragments.png](image/fragments.png)\n",
    "- **Fragments sewn back together by an enzyme called DNA ligase**\n",
    "![connected.png](image/connected.png)"
   ]
  },
  {
   "cell_type": "markdown",
   "metadata": {},
   "source": [
    "## 2. Peculiar Statistics of the Forward and Reverse Half-Strands\n",
    "\n",
    "How to use the asymmetry of replication possibly help locating ori?\n",
    "- since the replication of a reverse half-strand proceeds quickly, it lives double-stranded for most of its life. \n",
    "- Conversely, a forward half-strand spends a much larger amount of its life single-stranded, waiting to be used as a template for replication. \n",
    "- Single-stranded DNA has a much higher mutation rate than double-stranded DNA. \n",
    "- So if one of the four nucleotides in single-stranded DNA has a greater tendency than other nucleotides to mutate in single-stranded DNA, then we should observe a shortage of this nucleotide on the forward half-strand.\n",
    "\n",
    "### Deamination\n",
    "- cytosine (C) has a tendency to mutate into thymine (T) through a process called **deamination**. \n",
    "- Deamination rates rise 100-fold when DNA is single-stranded.\n",
    "### The skew diagram\n",
    "Skew_i(Genome): difference(#G,#C) in the first i nucleotides of Genome, 0 <= i <= |Genome|.\\\n",
    "\\\n",
    "The figure below shows a skew diagram for the DNA string CATGGGCATCGGCCATACGCC.\n",
    "![Skew%20Graph.png](image/skew%20graph.png)\n"
   ]
  },
  {
   "cell_type": "code",
   "execution_count": 67,
   "metadata": {},
   "outputs": [],
   "source": [
    "def skew_series(_genome):\n",
    "    \n",
    "    _series = [0]\n",
    "    \n",
    "    for i in _genome.upper():\n",
    "        if i == \"C\":\n",
    "            _series = _series + [_series[-1]-1]\n",
    "        elif i == \"G\":\n",
    "            _series = _series + [_series[-1]+1]\n",
    "        else:\n",
    "            _series = _series + [_series[-1]]\n",
    "    \n",
    "    return _series"
   ]
  },
  {
   "cell_type": "code",
   "execution_count": 68,
   "metadata": {},
   "outputs": [],
   "source": [
    "def toString(_list):\n",
    "    \n",
    "    if type(_list[0]) == int:\n",
    "        print(\" \".join(str(num) for num in _list))\n",
    "    \n",
    "    elif type(_list[0]) == str:\n",
    "        print(\" \".join(_list))"
   ]
  },
  {
   "cell_type": "code",
   "execution_count": 69,
   "metadata": {},
   "outputs": [
    {
     "name": "stdout",
     "output_type": "stream",
     "text": [
      "0 1 1 2 1 0 0 -1 -2 -1 -2 -1 -1 -1 -1\n"
     ]
    }
   ],
   "source": [
    "skew_input = \"GAGCCACCGCGATA\"\n",
    "toString(skew_series(skew_input))"
   ]
  },
  {
   "cell_type": "markdown",
   "metadata": {},
   "source": [
    "Here is a skew diagram for a linearized E. coli genome. The skew diagram for many bacterial genomes has a similar characteristic shape.\n",
    "![ecoliSkew.png](image/ecoliSkew.png)\n",
    "The skew should achieve a minimum at the position where the reverse half-strand ends and the forward half-strand begins, which is exactly the location of ori."
   ]
  },
  {
   "cell_type": "markdown",
   "metadata": {},
   "source": [
    "## 3. Minimum Skew Problem\n",
    "Find a position in a genome where the skew diagram attains a minimum.\n",
    "- Input: A DNA string Genome.\n",
    "- Output: All integer(s) i minimizing Skew_i (Genome) among all values of i (from 0 to |Genome|)."
   ]
  },
  {
   "cell_type": "code",
   "execution_count": 70,
   "metadata": {},
   "outputs": [],
   "source": [
    "# The running time for this one is pretty long since it \n",
    "# loops thru the list for more than once\n",
    "def MinimumSkew(Genome):\n",
    "    lst = skew_series(Genome)\n",
    "    _min = min(lst)\n",
    "    return [i for i, x in enumerate(lst) if x == _min]"
   ]
  },
  {
   "cell_type": "code",
   "execution_count": 179,
   "metadata": {},
   "outputs": [
    {
     "name": "stdout",
     "output_type": "stream",
     "text": [
      "14\n"
     ]
    }
   ],
   "source": [
    "minskew_input = \"CATTCCAGTACTTCGATGATGGCGTGAAGA\"\n",
    "toString(MinimumSkew(minskew_input))"
   ]
  },
  {
   "cell_type": "code",
   "execution_count": 180,
   "metadata": {},
   "outputs": [],
   "source": [
    "# A one-time-looping-through way\n",
    "def MinimumSkew2(Genome):\n",
    "    # to keep track of the min value\n",
    "    _min = 0\n",
    "    # keep track of the current value\n",
    "    _current = 0\n",
    "    # a return list\n",
    "    _min_list = []\n",
    "\n",
    "    for i, char in enumerate(Genome):\n",
    "        \n",
    "        if char == \"C\":\n",
    "            _current -= 1\n",
    "        elif char == \"G\":\n",
    "            _current += 1 \n",
    "            \n",
    "        # if we find a even smaller value, just update it and get rid of the list we've been keeping\n",
    "        if _current < _min:\n",
    "            _min = _current\n",
    "            _min_list = [i+1]\n",
    "        # otherwise add the new index to the list\n",
    "        elif _current == _min:\n",
    "            _min_list += [i+1]\n",
    "\n",
    "    return _min_list"
   ]
  },
  {
   "cell_type": "markdown",
   "metadata": {},
   "source": [
    "# import time\n",
    "\n",
    "minskew_input = \"TAAAGACTGCCGAGAGGCCAACACGAGTGCTAGAACGAGGGGCGTAAACGCGGGTCCGATTAAAGACTGCCGAGAGGCCAACACGAGTGCTAGAACGAGGGGCGTAAACGCGGGTCCGATTAAAGACTGCCGAGAGGCCAACACGAGTGCTAGAACGAGGGGCGTAAACGCGGGTCCGATTAAAGACTGCCGAGAGGCCAACACGAGTGCTAGAACGAGGGGCGTAAACGCGGGTCCGAT\"\n",
    "\n",
    "tic = time.perf_counter()\n",
    "print(toString(MinimumSkew(minskew_input)))\n",
    "toc = time.perf_counter()\n",
    "print(f\"MS1 used {toc - tic:0.4f} seconds\")\n",
    "\n",
    "tic = time.perf_counter()\n",
    "print(toString(MinimumSkew2(minskew_input)))\n",
    "toc = time.perf_counter()\n",
    "print(f\"MS2 used {toc - tic:0.4f} seconds\")"
   ]
  },
  {
   "cell_type": "markdown",
   "metadata": {},
   "source": [
    "## 4. DnaA can bind not only to \"perfect\" DnaA boxes but to their slight variations as well.\n",
    "\n",
    "### Hamming Distance Problem\n",
    "Compute the Hamming distance between two strings. The number of mismatches between strings p and q is called the Hamming distance between these strings and is denoted HammingDistance(p, q).\n",
    "- Input: Two strings of equal length.\n",
    "- Output: The Hamming distance between these strings."
   ]
  },
  {
   "cell_type": "code",
   "execution_count": 173,
   "metadata": {},
   "outputs": [],
   "source": [
    "def HammingDistance(str1, str2):\n",
    "    diffs = 0\n",
    "    for ch1, ch2 in zip(str1, str2):\n",
    "            if ch1 != ch2:\n",
    "                    diffs += 1\n",
    "    return diffs"
   ]
  },
  {
   "cell_type": "code",
   "execution_count": 174,
   "metadata": {},
   "outputs": [
    {
     "data": {
      "text/plain": [
       "23"
      ]
     },
     "execution_count": 174,
     "metadata": {},
     "output_type": "execute_result"
    }
   ],
   "source": [
    "HammingDistance(\"CAGAAAGGAAGGTCCCCATACACCGACGCACCAGTTTA\",\"CACGCCGTATGCATAAACGAGCCGCACGAACCAGAGAG\")"
   ]
  },
  {
   "cell_type": "markdown",
   "metadata": {},
   "source": [
    "### Approximate Pattern Matching Problem\n",
    "Find all approximate occurrences of a pattern in a string.\n",
    "\n",
    "- Input: Strings Pattern and Text along with an integer d.\n",
    "- Output: All starting positions where Pattern appears as a substring of Text with at most d mismatches."
   ]
  },
  {
   "cell_type": "code",
   "execution_count": 150,
   "metadata": {},
   "outputs": [],
   "source": [
    "def ApproximatePatternMatching(Text, Pattern, d):\n",
    "    positions = [] # initializing list of positions\n",
    "    textLen = len(Text)\n",
    "    for i in range(len(Pattern)-textLen+1):\n",
    "        if HummingDistance(Pattern[i:i+textLen], Text) <= d:\n",
    "            positions += [i]\n",
    "            \n",
    "    return positions"
   ]
  },
  {
   "cell_type": "code",
   "execution_count": 159,
   "metadata": {},
   "outputs": [
    {
     "data": {
      "text/plain": [
       "[6, 7, 26, 27]"
      ]
     },
     "execution_count": 159,
     "metadata": {},
     "output_type": "execute_result"
    }
   ],
   "source": [
    "text = \"ATTCTGGA\"\n",
    "pattern = \"CGCCCGAATCCAGAACGCATTCCCATATTTCGGGACCACTGGCCTCCACGGTACGGACGTCAATCAAAT\"\n",
    "k = 3\n",
    "ApproximatePatternMatching(text,pattern,3)"
   ]
  },
  {
   "cell_type": "markdown",
   "metadata": {},
   "source": [
    "### ApproximatePatternCount\n",
    "\n",
    "Input: Strings Pattern and Text as well as an integer d.\n",
    "Output: Count_d(Text, Pattern)."
   ]
  },
  {
   "cell_type": "code",
   "execution_count": 171,
   "metadata": {},
   "outputs": [],
   "source": [
    "def ApproximatePatternCount(Text,Pattern,k):\n",
    "    return len(ApproximatePatternMatching(Text, Pattern, k))"
   ]
  },
  {
   "cell_type": "code",
   "execution_count": 181,
   "metadata": {},
   "outputs": [
    {
     "data": {
      "text/plain": [
       "13"
      ]
     },
     "execution_count": 181,
     "metadata": {},
     "output_type": "execute_result"
    }
   ],
   "source": [
    "text = \"AA\"\n",
    "pattern = \"TACGCATTACAAAGCACA\"\n",
    "k = 1\n",
    "ApproximatePatternCount(text, pattern, k)"
   ]
  },
  {
   "cell_type": "markdown",
   "metadata": {},
   "source": [
    "### Frequent Words with Mismatches Problem\n",
    "Find the most frequent k-mers with mismatches in a string.\n",
    "- Input: A string Text as well as integers k and d. (You may assume k ≤ 12 and d ≤ 3.)\n",
    "- Output: All most frequent k-mers with up to d mismatches in Text."
   ]
  },
  {
   "cell_type": "markdown",
   "metadata": {},
   "source": [
    "## 5. Complications of Ori Finding\n",
    "1. Fewer DnaA boxes, difficult to identify \n",
    "2. The ter region shifted significantly (other than the opposite to ori), resulting in different length reverse and forward half-strands.\n",
    "3. The roughness of the skew minimum as an ori location indicator asks for expanded windows, which bring in extraneous repeated substrings. \n",
    "4. Skew graphs could look like below (Thermotoga petrophila).\n",
    "![petrophila.png](image/petrophila.png)\n",
    "- The ori not experimentally verified + conlex skew diagram: the region predicted by Ori-Finder as the ori region for Thermotoga petrophila (or even for Vibrio cholerae mimght be incorrect.\n"
   ]
  },
  {
   "cell_type": "markdown",
   "metadata": {},
   "source": [
    "### Neighbors \n",
    "to find the d-neighborhood of a string.\n",
    "- Input: A string Pattern and an integer d.\n",
    "- Output: The collection of strings Neighbors(Pattern, d)."
   ]
  },
  {
   "cell_type": "code",
   "execution_count": 177,
   "metadata": {},
   "outputs": [],
   "source": [
    "def Neighbors(Pattern, d):\n",
    "    nucleotide = {\"A\",\"C\",\"G\",\"T\"}\n",
    "    if d == 0:\n",
    "        return Pattern\n",
    "    \n",
    "    elif len(Pattern) == 1:\n",
    "        return nucleotide\n",
    "    \n",
    "    Neighborhood = []\n",
    "    SuffixNeighbors = Neighbors(Pattern[1:], d)\n",
    "    for Text in SuffixNeighbors:\n",
    "        if HammingDistance(Pattern[1:], Text) < d:\n",
    "            for x in nucleotide:\n",
    "                Neighborhood.append(x+Text)\n",
    "        else:\n",
    "            Neighborhood.append(Pattern[0]+Text)\n",
    "                \n",
    "    return Neighborhood"
   ]
  },
  {
   "cell_type": "code",
   "execution_count": 186,
   "metadata": {},
   "outputs": [
    {
     "data": {
      "text/plain": [
       "['TTTT',\n",
       " 'GTTT',\n",
       " 'ATTT',\n",
       " 'CTTT',\n",
       " 'TGTT',\n",
       " 'GGTT',\n",
       " 'AGTT',\n",
       " 'CGTT',\n",
       " 'TATT',\n",
       " 'GATT',\n",
       " 'AATT',\n",
       " 'CATT',\n",
       " 'TCTT',\n",
       " 'GCTT',\n",
       " 'ACTT',\n",
       " 'CCTT',\n",
       " 'TTGT',\n",
       " 'GTGT',\n",
       " 'ATGT',\n",
       " 'CTGT',\n",
       " 'TGGT',\n",
       " 'GGGT',\n",
       " 'AGGT',\n",
       " 'CGGT',\n",
       " 'TAGT',\n",
       " 'GAGT',\n",
       " 'AAGT',\n",
       " 'CAGT',\n",
       " 'TCGT',\n",
       " 'GCGT',\n",
       " 'ACGT',\n",
       " 'CCGT',\n",
       " 'TTAT',\n",
       " 'GTAT',\n",
       " 'ATAT',\n",
       " 'CTAT',\n",
       " 'TGAT',\n",
       " 'GGAT',\n",
       " 'AGAT',\n",
       " 'CGAT',\n",
       " 'TAAT',\n",
       " 'GAAT',\n",
       " 'AAAT',\n",
       " 'CAAT',\n",
       " 'TCAT',\n",
       " 'GCAT',\n",
       " 'ACAT',\n",
       " 'CCAT',\n",
       " 'TTCT',\n",
       " 'GTCT',\n",
       " 'ATCT',\n",
       " 'CTCT',\n",
       " 'TGCT',\n",
       " 'GGCT',\n",
       " 'AGCT',\n",
       " 'CGCT',\n",
       " 'TACT',\n",
       " 'GACT',\n",
       " 'AACT',\n",
       " 'CACT',\n",
       " 'TCCT',\n",
       " 'GCCT',\n",
       " 'ACCT',\n",
       " 'CCCT',\n",
       " 'ATTG',\n",
       " 'TGTG',\n",
       " 'GGTG',\n",
       " 'AGTG',\n",
       " 'CGTG',\n",
       " 'AATG',\n",
       " 'ACTG',\n",
       " 'ATGG',\n",
       " 'TGGG',\n",
       " 'GGGG',\n",
       " 'AGGG',\n",
       " 'CGGG',\n",
       " 'AAGG',\n",
       " 'ACGG',\n",
       " 'ATAG',\n",
       " 'TGAG',\n",
       " 'GGAG',\n",
       " 'AGAG',\n",
       " 'CGAG',\n",
       " 'AAAG',\n",
       " 'ACAG',\n",
       " 'TTCG',\n",
       " 'GTCG',\n",
       " 'ATCG',\n",
       " 'CTCG',\n",
       " 'TGCG',\n",
       " 'GGCG',\n",
       " 'AGCG',\n",
       " 'CGCG',\n",
       " 'TACG',\n",
       " 'GACG',\n",
       " 'AACG',\n",
       " 'CACG',\n",
       " 'TCCG',\n",
       " 'GCCG',\n",
       " 'ACCG',\n",
       " 'CCCG',\n",
       " 'ATTA',\n",
       " 'TGTA',\n",
       " 'GGTA',\n",
       " 'AGTA',\n",
       " 'CGTA',\n",
       " 'AATA',\n",
       " 'ACTA',\n",
       " 'ATGA',\n",
       " 'TGGA',\n",
       " 'GGGA',\n",
       " 'AGGA',\n",
       " 'CGGA',\n",
       " 'AAGA',\n",
       " 'ACGA',\n",
       " 'ATAA',\n",
       " 'TGAA',\n",
       " 'GGAA',\n",
       " 'AGAA',\n",
       " 'CGAA',\n",
       " 'AAAA',\n",
       " 'ACAA',\n",
       " 'TTCA',\n",
       " 'GTCA',\n",
       " 'ATCA',\n",
       " 'CTCA',\n",
       " 'TGCA',\n",
       " 'GGCA',\n",
       " 'AGCA',\n",
       " 'CGCA',\n",
       " 'TACA',\n",
       " 'GACA',\n",
       " 'AACA',\n",
       " 'CACA',\n",
       " 'TCCA',\n",
       " 'GCCA',\n",
       " 'ACCA',\n",
       " 'CCCA',\n",
       " 'ATTC',\n",
       " 'TGTC',\n",
       " 'GGTC',\n",
       " 'AGTC',\n",
       " 'CGTC',\n",
       " 'AATC',\n",
       " 'ACTC',\n",
       " 'ATGC',\n",
       " 'TGGC',\n",
       " 'GGGC',\n",
       " 'AGGC',\n",
       " 'CGGC',\n",
       " 'AAGC',\n",
       " 'ACGC',\n",
       " 'ATAC',\n",
       " 'TGAC',\n",
       " 'GGAC',\n",
       " 'AGAC',\n",
       " 'CGAC',\n",
       " 'AAAC',\n",
       " 'ACAC',\n",
       " 'TTCC',\n",
       " 'GTCC',\n",
       " 'ATCC',\n",
       " 'CTCC',\n",
       " 'TGCC',\n",
       " 'GGCC',\n",
       " 'AGCC',\n",
       " 'CGCC',\n",
       " 'TACC',\n",
       " 'GACC',\n",
       " 'AACC',\n",
       " 'CACC',\n",
       " 'TCCC',\n",
       " 'GCCC',\n",
       " 'ACCC',\n",
       " 'CCCC']"
      ]
     },
     "execution_count": 186,
     "metadata": {},
     "output_type": "execute_result"
    }
   ],
   "source": [
    "text = \"AGCT\"\n",
    "d = 2\n",
    "Neighbors(text,3)"
   ]
  },
  {
   "cell_type": "code",
   "execution_count": null,
   "metadata": {},
   "outputs": [],
   "source": []
  }
 ],
 "metadata": {
  "kernelspec": {
   "display_name": "Python 3",
   "language": "python",
   "name": "python3"
  },
  "language_info": {
   "codemirror_mode": {
    "name": "ipython",
    "version": 3
   },
   "file_extension": ".py",
   "mimetype": "text/x-python",
   "name": "python",
   "nbconvert_exporter": "python",
   "pygments_lexer": "ipython3",
   "version": "3.7.6"
  }
 },
 "nbformat": 4,
 "nbformat_minor": 4
}
