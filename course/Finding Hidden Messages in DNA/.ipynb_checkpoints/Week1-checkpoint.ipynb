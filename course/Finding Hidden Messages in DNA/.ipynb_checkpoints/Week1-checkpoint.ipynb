{
 "cells": [
  {
   "cell_type": "markdown",
   "metadata": {},
   "source": [
    "# Week 1 Notes\n",
    "\n",
    "## Website\n",
    "https://www.coursera.org/learn/dna-analysis/home/welcome \\\n",
    "https://stepik.org/lesson/1/step/4?unit=8230\n",
    "\n",
    "### 1.1 The Replication Origin\n",
    "- Replication begins in a genomic region called the replication origin (denoted ori) and is carried out by molecular copy machines called DNA polymerases.\n",
    "- Why important?\n",
    "    - E.g. gene therapy methods use genetically engineered mini-genomes, which are called viral vectors because they are able to penetrate cell walls (just like real viruses). \n",
    "    - Viral vectors carrying artificial genes have been used in agriculture, such as to engineer frost-resistant tomatoes and pesticide-resistant corn. \n",
    "    - In 1990, gene therapy was first successfully performed on humans when it saved the life of a four-year-old girl suffering from Severe Combined Immunodeficiency Disorder.\n",
    "\n",
    "\n",
    "### 1.2 Hidden messages in the Replication Origin\n",
    "- Initiation of replication is mediated by DnaA, a protein that binds to a short segment within the ori known as a DnaA box. \n",
    "- Hidden message: any surprisingly frequent \"words\" within the ori of a genome.\n",
    "    - K-mer: subsequences of length k contained within a biological sequence.\n",
    "- How do we know which k is the right k-mer?\n",
    "    - By experiments.\n",
    "\n",
    "### 1.3 Compute K-mers\n",
    "Count Frequencies of k-mers. //  O(|Text|2 · k)\n"
   ]
  },
  {
   "cell_type": "code",
   "execution_count": 7,
   "metadata": {},
   "outputs": [
    {
     "data": {
      "text/plain": [
       "6"
      ]
     },
     "execution_count": 7,
     "metadata": {},
     "output_type": "execute_result"
    }
   ],
   "source": [
    "#Compute Count(CGCGATACGTTACATACATGATAGACCGCGCGCGATCATATCGCGATTATC, CGCG).\n",
    "def count(sequence, subseq):\n",
    "    count = 0\n",
    "    start = 0\n",
    "\n",
    "    while start < len(sequence): \n",
    "\n",
    "        flag = str.find(sequence, subseq, start) \n",
    "  \n",
    "        if flag != -1: \n",
    "            start = flag + 1\n",
    "            count += 1\n",
    "        else: \n",
    "            return count \n",
    "  \n",
    "\n",
    "count(\"GACCATCAAAACTGATAAACTACTTAAAAATCAGT\",\"AAA\")"
   ]
  },
  {
   "cell_type": "code",
   "execution_count": 62,
   "metadata": {},
   "outputs": [
    {
     "data": {
      "text/plain": [
       "'CCTCTCGCGCCT CCTCTCGCTTCC CGCGCCTCTCGC CTCGCGCCTCTC CTCGCTTCCCAG CTCTCGCGCCTC CTCTCGCTTCCC GCCTCTCGCGCC GCCTCTCGCTTC TCGCGCCTCTCG TCGCTTCCCAGA TCTCGCGCCTCT TCTCGCTTCCCA'"
      ]
     },
     "execution_count": 62,
     "metadata": {},
     "output_type": "execute_result"
    }
   ],
   "source": [
    "#What is the most frequent 3-mer of CGGAGGACTCTAGGTAACGCTTATCAGGTCCATAGGACATTCA?\n",
    "import collections\n",
    "\n",
    "def get_all_k_mer(string, k=1):\n",
    "    length = len(string)\n",
    "    \n",
    "    # create a sorted list of all k-mers\n",
    "    lst = [string[i: i+ k] for i in range(length-k+1)]\n",
    "    lst_sorted = collections.Counter(lst).most_common()\n",
    "    \n",
    "    # get the highest frequency \n",
    "    if lst_sorted[0][0]:\n",
    "        most_freq = lst_sorted[0][1]\n",
    "   \n",
    "    # return list\n",
    "    mf_kmer = []\n",
    "    \n",
    "    # append all highest k-mers\n",
    "    for item in lst_sorted: \n",
    "        if item[1] == most_freq:\n",
    "            mf_kmer.append(item[0])\n",
    "            \n",
    "    return mf_kmer\n",
    "            \n",
    "    \n",
    "base = \"TTCCCAGATTCCCAGATTCCCAGATCTGGTTATGTAGATTTTCCCAGATTCCCAGATTCCCAGAGACAGAGAGTCTGGTTATTCTGGTTATGCCTCTCGCTTCCCAGAGCCTCTCGCGCCTCTCGCGACAGAGAGGCCTCTCGCTCTGGTTATTTCCCAGATTCCCAGAGCCTCTCGCGCCTCTCGCGCCTCTCGCTTCCCAGATCTGGTTATTTCCCAGAGTAGATTGACAGAGAGGCCTCTCGCGCCTCTCGCTCTGGTTATTCTGGTTATGTAGATTGACAGAGAGTCTGGTTATTTCCCAGATTCCCAGAGCCTCTCGCTTCCCAGAGCCTCTCGCTTCCCAGAGCCTCTCGCTCTGGTTATTCTGGTTATGTAGATTGACAGAGAGTCTGGTTATGCCTCTCGCGCCTCTCGCGTAGATTTTCCCAGAGTAGATTTCTGGTTATGTAGATTTTCCCAGAGACAGAGAGTTCCCAGATCTGGTTATGTAGATTTCTGGTTATGCCTCTCGCGCCTCTCGCTTCCCAGAGACAGAGAGTTCCCAGATCTGGTTATGACAGAGAGGTAGATTGACAGAGAGGCCTCTCGCGCCTCTCGCTTCCCAGATCTGGTTATGTAGATTGACAGAGAGGCCTCTCGCGCCTCTCGCGTAGATTGACAGAGAGGCCTCTCGCGTAGATTTCTGGTTATGCCTCTCGCGACAGAGAGTTCCCAGAGTAGATTGTAGATTGTAGATTGCCTCTCGCTTCCCAGAGACAGAGAGTTCCCAGAGCCTCTCGCTTCCCAGATCTGGTTATGCCTCTCGCTCTGGTTAT\"\n",
    "a = get_all_k_mer(base,12)\n",
    "\n",
    "# sort alphabetically\n",
    "a.sort()\n",
    "\" \".join(a)"
   ]
  },
  {
   "cell_type": "code",
   "execution_count": 9,
   "metadata": {},
   "outputs": [
    {
     "data": {
      "text/plain": [
       "Seq('GACACAA')"
      ]
     },
     "execution_count": 9,
     "metadata": {},
     "output_type": "execute_result"
    }
   ],
   "source": [
    "#What is the reverse complement of GATTACA?\n",
    "import Bio\n",
    "from Bio.Seq import Seq\n",
    "seq = Seq(\"TTGTGTC\")\n",
    "seq.reverse_complement()"
   ]
  },
  {
   "cell_type": "code",
   "execution_count": 12,
   "metadata": {},
   "outputs": [
    {
     "data": {
      "text/plain": [
       "Seq('GAUUACA', RNAAlphabet())"
      ]
     },
     "execution_count": 12,
     "metadata": {},
     "output_type": "execute_result"
    }
   ],
   "source": [
    "seq.transcribe()"
   ]
  },
  {
   "cell_type": "code",
   "execution_count": 13,
   "metadata": {},
   "outputs": [
    {
     "name": "stderr",
     "output_type": "stream",
     "text": [
      "/usr/local/lib/python3.7/site-packages/Bio/Seq.py:2859: BiopythonWarning: Partial codon, len(sequence) not a multiple of three. Explicitly trim the sequence or add trailing N before translation. This may become an error in future.\n",
      "  BiopythonWarning,\n"
     ]
    },
    {
     "data": {
      "text/plain": [
       "Seq('DY', ExtendedIUPACProtein())"
      ]
     },
     "execution_count": 13,
     "metadata": {},
     "output_type": "execute_result"
    }
   ],
   "source": [
    "seq.translate()\n"
   ]
  },
  {
   "cell_type": "code",
   "execution_count": 16,
   "metadata": {},
   "outputs": [],
   "source": [
    "complement = {'A': 'T', 'C': 'G', 'G': 'C', 'T': 'A'}\n",
    "seq = \"GATTACA\"\n",
    "reverse_complement = \"\".join(complement.get(base) for base in reversed(seq))"
   ]
  },
  {
   "cell_type": "code",
   "execution_count": 17,
   "metadata": {},
   "outputs": [
    {
     "data": {
      "text/plain": [
       "'TGTAATC'"
      ]
     },
     "execution_count": 17,
     "metadata": {},
     "output_type": "execute_result"
    }
   ],
   "source": [
    "reverse_complement"
   ]
  },
  {
   "cell_type": "code",
   "execution_count": 36,
   "metadata": {},
   "outputs": [
    {
     "data": {
      "text/plain": [
       "'GACACAA'"
      ]
     },
     "execution_count": 36,
     "metadata": {},
     "output_type": "execute_result"
    }
   ],
   "source": [
    "def ReverseComplement(Pattern):\n",
    "    _dictionary = {\"A\":\"T\",\n",
    "                  \"T\":\"A\",\n",
    "                  \"C\":\"G\",\n",
    "                  \"G\":\"C\"}\n",
    "    _reverseComp = \"\"\n",
    "    for _i in Pattern[::-1]:\n",
    "        _reverseComp = _reverseComp + _dictionary[_i]\n",
    "    return _reverseComp\n",
    "\n",
    "ReverseComplement(seq)"
   ]
  },
  {
   "cell_type": "code",
   "execution_count": 41,
   "metadata": {},
   "outputs": [
    {
     "data": {
      "text/plain": [
       "[1, 3, 9]"
      ]
     },
     "execution_count": 41,
     "metadata": {},
     "output_type": "execute_result"
    }
   ],
   "source": [
    "# fill in your PatternMatching() function along with any subroutines that you need.\n",
    "def findall(pattern, s):\n",
    "    \n",
    "    i = s.find(p)\n",
    "    while i != -1:\n",
    "        yield i\n",
    "        i = s.find(p, i+1)\n",
    "\n",
    "[i for i in findall(\"ATAT\",\"GATATATGCATATACTT\")]"
   ]
  },
  {
   "cell_type": "code",
   "execution_count": 50,
   "metadata": {},
   "outputs": [
    {
     "data": {
      "text/plain": [
       "33"
      ]
     },
     "execution_count": 50,
     "metadata": {},
     "output_type": "execute_result"
    }
   ],
   "source": [
    "# fill in your PatternMatching() function along with any subroutines that you need.\n",
    "def PatternMatching(Genome, Pattern):\n",
    "\n",
    "    i = Genome.find(Pattern)\n",
    "    _Return = [i]\n",
    "    \n",
    "    while i != -1:\n",
    "        yield i\n",
    "        i = Genome.find(Pattern, i+1)\n",
    "        \n",
    "len([i for i in PatternMatching(\"CAGGTATAACGGGCGCCATGGGCGCCGGGCGCCTAAGGGCGCCTCTTGAACGGGCGCCTAGGGGCGCCAAGGGCGCCAGGGGCGCCATAAATAGAACCGGGTTCTATCCCAGGGGCGCCATCCTGGGCGCCGGGCGCCAGGGCGCCGGGCGCCTTAGGGCGCCGGGCGCCCTTTGGGCGCCCAAGGGCGCCGGGCGCCCCGGTAAGGGCGCCTCAGGGCGCCCCTCTAGGGCGCCCGGGCGCCGGGGCGCCGGGCGCCCGGGGGCGCCAGGGGGGCGCCTTCGGGGCGCCGTCGGACTGGGCGCCAGGGCGCCGGGGCGCCAGGGCGCCGGGCGCCCGTGGGCGCCAGGGCGCCGCGGGCGCCCGGGCGCCGGTCTCTAGGGGCGCCGGAGCGAGAATAGGGCGCCGGGCGCCGGGCGCCACACGGGCGCCGGGCGCCTCGGGCGCCGGGCGCCCGCGGGCGCCAAACGCGGGCGCCTGGCCGTTGGGCGCCAGGGCGCCCGTACTTGGGCGCCGGGGCGCCGGGCGCCTAGGGCGCCGGGCGCCCGGGCGCCGGGCGCCGGGCGCCGTGGGCGCCGGGGGCGCCAGTCAGGGCGCCAGGGCGCCTGGGCGCCTTCGGGCGCCGGGCGCCAGGGCGCCGTGGGCGCCCTGGGCGCCAAGTGCGGGGCGCCTCTGGGCGCCCTAGGGCGCCGGCGGGGGCGCCTATGGGGCGCCAGAGGGCGCCGGGGCGCCGGGGGCGCCGGGGCGCCCTTTCGGGCGCCTGGGCGCCAGGGGCGCCGGGCGCCCCTTGAGGGGCGCCGGGGCGCCGGGCGCCGGGCGCCAAGGGCGCCGGGCGCCCATCGGGCGCCTGTGACGGGGCGCCAGGGCGCCTGAGGGGCGCCCTTAGAGGGCGCCAATTGTCGAAAAAAGGGTAGGGGCGCCGAGGGCGCCGGGGCGCCTTGCTGGGCGCCCGGGCGCCGGCGGGGCGCCACTGGGCGCC\", \"GGGCGCCGG\")])"
   ]
  },
  {
   "cell_type": "code",
   "execution_count": null,
   "metadata": {},
   "outputs": [],
   "source": []
  }
 ],
 "metadata": {
  "kernelspec": {
   "display_name": "Python 3",
   "language": "python",
   "name": "python3"
  },
  "language_info": {
   "codemirror_mode": {
    "name": "ipython",
    "version": 3
   },
   "file_extension": ".py",
   "mimetype": "text/x-python",
   "name": "python",
   "nbconvert_exporter": "python",
   "pygments_lexer": "ipython3",
   "version": "3.7.6"
  }
 },
 "nbformat": 4,
 "nbformat_minor": 4
}
