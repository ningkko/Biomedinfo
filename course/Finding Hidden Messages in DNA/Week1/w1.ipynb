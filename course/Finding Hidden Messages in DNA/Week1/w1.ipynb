{
 "cells": [
  {
   "attachments": {},
   "cell_type": "markdown",
   "metadata": {},
   "source": [
    "# Week 1 Notes\n",
    "\n",
    "## Website\n",
    "- https://www.coursera.org/learn/dna-analysis/home/welcome  \n",
    "- https://stepik.org/lesson/1/step/4?unit=8230 \n",
    "- http://www.csbio.unc.edu/mcmillan/Comp555S16/Lecture02.html\n",
    "\n",
    "## 1.1 The Replication Origin\n",
    "- Replication begins in a genomic region called the replication origin (denoted ori) and is carried out by molecular copy machines called DNA polymerases.\n",
    "- Why important?\n",
    "    - E.g. gene therapy methods use genetically engineered mini-genomes, which are called viral vectors because they are able to penetrate cell walls (just like real viruses). \n",
    "    - Viral vectors carrying artificial genes have been used in agriculture, such as to engineer frost-resistant tomatoes and pesticide-resistant corn. \n",
    "    - In 1990, gene therapy was first successfully performed on humans when it saved the life of a four-year-old girl suffering from Severe Combined Immunodeficiency Disorder.\n",
    "\n",
    "\n",
    "## 1.2 Hidden messages in the Replication Origin\n",
    "- Initiation of replication is mediated by DnaA, a protein that binds to a short segment within the ori known as a DnaA box. \n",
    "- Hidden message: any surprisingly frequent \"words\" within the ori of a genome.\n",
    "    - K-mer: subsequences of length k contained within a biological sequence.\n",
    "- How do we know which k is the right k-mer?\n",
    "    - By experiments.\n",
    "    "
   ]
  },
  {
   "cell_type": "code",
   "execution_count": 305,
   "metadata": {},
   "outputs": [],
   "source": [
    "def get_all_k_mer(string, k=1):\n",
    "    \n",
    "    length = len(string)\n",
    "    \n",
    "    # create a sorted list of all k-mers\n",
    "    lst = [string[i: i+ k] for i in range(length-k+1)]\n",
    "    lst_sorted = collections.Counter(lst).most_common()\n",
    "    \n",
    "    # get the highest frequency \n",
    "    if lst_sorted[0][0]:\n",
    "        most_freq = lst_sorted[0][1]\n",
    "   \n",
    "    # return list\n",
    "    mf_kmer = []\n",
    "    \n",
    "    # append all highest k-mers\n",
    "    for item in lst_sorted: \n",
    "        if item[1] == most_freq:\n",
    "            mf_kmer.append(item[0])\n",
    "            \n",
    "    return mf_kmer"
   ]
  },
  {
   "cell_type": "code",
   "execution_count": 336,
   "metadata": {
    "scrolled": true
   },
   "outputs": [
    {
     "data": {
      "text/plain": [
       "['CCTCTCGCGCCT',\n",
       " 'CCTCTCGCTTCC',\n",
       " 'CGCGCCTCTCGC',\n",
       " 'CTCGCGCCTCTC',\n",
       " 'CTCGCTTCCCAG',\n",
       " 'CTCTCGCGCCTC',\n",
       " 'CTCTCGCTTCCC',\n",
       " 'GCCTCTCGCGCC',\n",
       " 'GCCTCTCGCTTC',\n",
       " 'TCGCGCCTCTCG',\n",
       " 'TCGCTTCCCAGA',\n",
       " 'TCTCGCGCCTCT',\n",
       " 'TCTCGCTTCCCA']"
      ]
     },
     "execution_count": 336,
     "metadata": {},
     "output_type": "execute_result"
    }
   ],
   "source": [
    "#What are the most frequent 12-mers of the following sequence?\n",
    "import collections\n",
    "base = \"TTCCCAGATTCCCAGATTCCCAGATCTGGTTATGTAGATTTTCCCAGATTCCCAGATTCCCAGAGACAGAGAGTCTGGTTATTCTGGTTATGCCTCTCGCTTCCCAGAGCCTCTCGCGCCTCTCGCGACAGAGAGGCCTCTCGCTCTGGTTATTTCCCAGATTCCCAGAGCCTCTCGCGCCTCTCGCGCCTCTCGCTTCCCAGATCTGGTTATTTCCCAGAGTAGATTGACAGAGAGGCCTCTCGCGCCTCTCGCTCTGGTTATTCTGGTTATGTAGATTGACAGAGAGTCTGGTTATTTCCCAGATTCCCAGAGCCTCTCGCTTCCCAGAGCCTCTCGCTTCCCAGAGCCTCTCGCTCTGGTTATTCTGGTTATGTAGATTGACAGAGAGTCTGGTTATGCCTCTCGCGCCTCTCGCGTAGATTTTCCCAGAGTAGATTTCTGGTTATGTAGATTTTCCCAGAGACAGAGAGTTCCCAGATCTGGTTATGTAGATTTCTGGTTATGCCTCTCGCGCCTCTCGCTTCCCAGAGACAGAGAGTTCCCAGATCTGGTTATGACAGAGAGGTAGATTGACAGAGAGGCCTCTCGCGCCTCTCGCTTCCCAGATCTGGTTATGTAGATTGACAGAGAGGCCTCTCGCGCCTCTCGCGTAGATTGACAGAGAGGCCTCTCGCGTAGATTTCTGGTTATGCCTCTCGCGACAGAGAGTTCCCAGAGTAGATTGTAGATTGTAGATTGCCTCTCGCTTCCCAGAGACAGAGAGTTCCCAGAGCCTCTCGCTTCCCAGATCTGGTTATGCCTCTCGCTCTGGTTAT\"\n",
    "a = get_all_k_mer(base,12)\n",
    "\n",
    "# sort alphabetically\n",
    "a.sort()\n",
    "a"
   ]
  },
  {
   "attachments": {},
   "cell_type": "markdown",
   "metadata": {},
   "source": [
    "## 1.3 Count frequencies\n",
    "![countFrequency.png](image/countFrequency.png)"
   ]
  },
  {
   "cell_type": "code",
   "execution_count": 307,
   "metadata": {},
   "outputs": [],
   "source": [
    "def countFreq(sequence, subseq):\n",
    "    count = 0\n",
    "    start = 0\n",
    "\n",
    "    while start < len(sequence): \n",
    "\n",
    "        flag = str.find(sequence, subseq, start) \n",
    "  \n",
    "        if flag != -1: \n",
    "            start = flag + 1\n",
    "            count += 1\n",
    "        else: \n",
    "            return count "
   ]
  },
  {
   "cell_type": "code",
   "execution_count": 308,
   "metadata": {},
   "outputs": [
    {
     "data": {
      "text/plain": [
       "6"
      ]
     },
     "execution_count": 308,
     "metadata": {},
     "output_type": "execute_result"
    }
   ],
   "source": [
    "#Compute Count(CGCGATACGTTACATACATGATAGACCGCGCGCGATCATATCGCGATTATC, CGCG).\n",
    "seq = \"CGCGATACGTTACATACATGATAGACCGCGCGCGATCATATCGCGATTATC\"\n",
    "subs = \"CGCG\"\n",
    "\n",
    "countFreq(\"GACCATCAAAACTGATAAACTACTTAAAAATCAGT\",\"AAA\")"
   ]
  },
  {
   "attachments": {},
   "cell_type": "markdown",
   "metadata": {},
   "source": [
    "## 1.4 Complementary Strand\n",
    "- G-G\n",
    "- G-C\n",
    "- A-T\n",
    "- T-A\n",
    "![complementary%20strand.png](image/complementary%20strand.png)"
   ]
  },
  {
   "cell_type": "code",
   "execution_count": 309,
   "metadata": {},
   "outputs": [
    {
     "data": {
      "text/plain": [
       "'TGTAATC'"
      ]
     },
     "execution_count": 309,
     "metadata": {},
     "output_type": "execute_result"
    }
   ],
   "source": [
    "# method 1 \n",
    "\n",
    "seq = \"GATTACA\"\n",
    "\n",
    "complement = {'A': 'T', 'C': 'G', 'G': 'C', 'T': 'A'}\n",
    "reverse_complement = \"\".join(complement.get(base) for base in reversed(seq))\n",
    "\n",
    "reverse_complement"
   ]
  },
  {
   "cell_type": "code",
   "execution_count": 310,
   "metadata": {},
   "outputs": [],
   "source": [
    "# method 2\n",
    "\n",
    "def ReverseComplement(Pattern):\n",
    "    \n",
    "    _dictionary = {\"A\":\"T\",\n",
    "                  \"T\":\"A\",\n",
    "                  \"C\":\"G\",\n",
    "                  \"G\":\"C\"}\n",
    "    \n",
    "    _reverseComp = \"\"\n",
    "    \n",
    "    for _i in Pattern[::-1]:\n",
    "        _reverseComp = _reverseComp + _dictionary[_i]\n",
    "    \n",
    "    return _reverseComp"
   ]
  },
  {
   "cell_type": "code",
   "execution_count": 337,
   "metadata": {},
   "outputs": [
    {
     "data": {
      "text/plain": [
       "'TGTAATC'"
      ]
     },
     "execution_count": 337,
     "metadata": {},
     "output_type": "execute_result"
    }
   ],
   "source": [
    "seq = \"GATTACA\"\n",
    "ReverseComplement(seq)"
   ]
  },
  {
   "cell_type": "markdown",
   "metadata": {},
   "source": [
    "### Or we could also have used the Bio package."
   ]
  },
  {
   "cell_type": "code",
   "execution_count": 312,
   "metadata": {},
   "outputs": [
    {
     "data": {
      "text/plain": [
       "Seq('GCGGTTTACGCATACCACACTAGGCTAGCCCTGCGTAAAAAGTTGAATCAAGTG...ATG')"
      ]
     },
     "execution_count": 312,
     "metadata": {},
     "output_type": "execute_result"
    }
   ],
   "source": [
    "#What is the reverse complement of GATTACA?\n",
    "import Bio\n",
    "from Bio.Seq import Seq\n",
    "seq = Seq(seq)\n",
    "seq.reverse_complement()"
   ]
  },
  {
   "cell_type": "code",
   "execution_count": 313,
   "metadata": {},
   "outputs": [
    {
     "data": {
      "text/plain": [
       "Seq('CAUGCGAUUGUAAUCCGCUCAACCAAGUUAGACGCUUUCUUGUCACUUGCGCUC...CGC', RNAAlphabet())"
      ]
     },
     "execution_count": 313,
     "metadata": {},
     "output_type": "execute_result"
    }
   ],
   "source": [
    "seq.transcribe()"
   ]
  },
  {
   "cell_type": "code",
   "execution_count": 314,
   "metadata": {},
   "outputs": [
    {
     "data": {
      "text/plain": [
       "Seq('HAIVIRSTKLDAFLSLALS*ALG*AATAYSKSIRPASQIASSRRLLLLMATGAG...VNR', HasStopCodon(ExtendedIUPACProtein(), '*'))"
      ]
     },
     "execution_count": 314,
     "metadata": {},
     "output_type": "execute_result"
    }
   ],
   "source": [
    "seq.translate()\n"
   ]
  },
  {
   "cell_type": "markdown",
   "metadata": {},
   "source": [
    "## 1.5 Are the Subsequences all in the Ori Region?\n",
    "- After finding out the most frequent k-mer (and its reverse complementary), we need ot check if the string occurs as repeats throughout the entire Vibrio cholerae genome, rather than just in the ori region.\n",
    "- We don't want the k-mer to form clump in other regions because that would mean that the k-mer we found is not special to the Ori region.\n"
   ]
  },
  {
   "cell_type": "code",
   "execution_count": 315,
   "metadata": {},
   "outputs": [],
   "source": [
    "def findall(_pattern, _seq):    \n",
    "   \n",
    "    i = _seq.find(_pattern)\n",
    "   \n",
    "    while i != -1:\n",
    "        yield i\n",
    "        i = _seq.find(_pattern, i+1)"
   ]
  },
  {
   "cell_type": "code",
   "execution_count": 316,
   "metadata": {},
   "outputs": [
    {
     "data": {
      "text/plain": [
       "'43 76 83 119 126 232 239 297 386 393 400 424 439 454 469 487 508 569 594 621 649 656 679 701 743 781 833 962 1030 1194 1201 1208 1249 1282 1309 1316 1342 1373 1389 1396 1428 1462 1477 1558 1565 1604 1724 1865 1876 1923 1964 1979 1998 2036 2091 2165 2187 2196 2203 2269 2364 2374 2475 2556 2580 2613 2631 2815 2822 2863 2882 2949 2982 2989 2996 3005 3012 3032 3039 3150 3241 3289 3304 3330 3413 3500 3507 3577 3584 3634 3668 3715 3722 3738 3745 3767 3792 3799 3815 3822 3829 3892 3919 3926 4008 4023 4209 4216 4273 4322 4337 4397 4417 4572 4582 4614 4633 4658 4794 4817 4860 4876 4917 4924 4984 4991 5089 5139 5166 5197 5339 5346 5380 5389 5452 5493 5555 5589 5633 5734 5741 5783 5806 5859 5866 5894 5926 5933 5962 5980 5996 6016 6035 6103 6110 6133 6140 6147 6172 6217 6241 6283 6345 6426 6433 6461 6515 6575 6590 6633 6678 6708 6715 6798 6828 6859 6866 6873 6880 6948 6963 6970 7031 7110 7135 7172 7201 7208 7218 7225 7232 7239 7295 7322 7352 7404 7483 7516 7542 7603 7632 7657 7664 7712 7719 7750 7757 7779 7786 7807 7891 7969 8040 8060 8081 8147 8154 8161 8190 8260 8329 8392 8399 8449 8503 8567 8603 8622 8629 8708 8759 8774 8837 8861 8895'"
      ]
     },
     "execution_count": 316,
     "metadata": {},
     "output_type": "execute_result"
    }
   ],
   "source": [
    "sequence = \"AGCGTGTCTTATCAGCCCTTGCGTGTCGGCTGTACTTGAAGAGGCGTGTCGCGTGTCTGCGTGTCCGCGCGTGTCGGCGTGTCGCGTGTCGCGTGTCCTGCTTCCTGAATAGCGTGTCTGCGTGTCGCGTGTCGCGTGTCTCGCGTGTCCAGCGTGTCGTAGCGTGTCCGCGTGTCGGCGTGTCATGCGTGTCAGCGTGTCCTATGGCGTGTCACCGCGTGTCCGCGTGTCAGCGTGTCGCGTGTCGCGCCTACGCGTGTCTTTGCGTGTCGGCGTGTCAGACGTCGCGTGTCTAGGGCGTGTCGCGTGTCAGCGTGTCTAAGGCGTGTCGGGCGTGTCTGTCCGCGTGTCAACGGGCGTGTCATATAATTGCCCGAGGCGTGTCGGCGTGTCGCGTGTCGCGTGTCGCGTGTCAGGCGTGTCGGCGTGTCGCGTGTCCGCGTGTCGCGTGTCTGCGTGTCGCGTGTCGGCGTGTCGCGTGTCGTTCGCGTGTCGCGTGTCGTTACATGCGTGTCGCGTGTCGGCGTGTCCATGCGTGTCCGCGTGTCGGCGTGTCTACGCGTGTCCAGGCGTGTCGCGTGTCTGGCGTGTCTAGCGTGTCGCGTGTCTTGCGTGTCTTGAGCGTGTCGCGTGTCAGTGCGTGTCAAAGGCGTGTCGCGTGTCGCGTGTCGGCGTGTCGGCGTGTCGCGTGTCCGTCAGAGGCGTGTCGCGTGTCCATTTGCGTGTCCACTAGCGTGTCGGTCGCGTGTCGCCTCGCGTGTCGGCGTGTCCGGCGTGTCAAGCGTGTCGCAGTGCGTGTCACAGCGCGTGTCATGCGTGTCATGCGTGTCCGTGCGTGTCGCGTGTCCAGCTGCGTGTCCATGCGTGTCTGCGTGTCTGGCGTGTCAAGGCGTGTCTAAAGCGTGTCACTTTGCGTGTCCGGCAGCGTGTCAGCGTGTCGAAGCGTGTCCCATAGCGTGTCGGCGTGTCGCGTGTCAGCTGGCGTGTCCTCGTTAGACGCGTGTCAGTGCGTGTCATGAGCGTGTCAAATGCGTGTCGCGTGTCCACCGCGCGTGTCACGCGTGTCTTTTGCGTGTCCGCGTGTCGGGCGTGTCAGGGGCGTGTCACTGCGTGTCTGCGTGTCTTCAGGGCGTGTCTCCTAGCCGTCGCGTGTCGGTGCGTGTCTGCGTGTCTGCGTGTCAGCGTGTCTTGCATGCGTGTCGCGTGTCGCGTGTCGCGTGTCGGAGAACGGCGTGTCCAGCGCCTACGGGCGTGTCGCGTGTCCGGCGTGTCAGCGTGTCTTGCGTGTCGCGTGTCTGCGTGTCGGGTCGCGTGTCGCGTGTCGCGTGTCACAGCGTGTCCCGCGTGTCGCGTGTCTGCGTGTCCATGAGGTAGCGTGTCGCGTGTCGTGCGTGTCGCGTGTCGCGTGTCCCCTCGCGTGTCTTCGTGGCGTGTCGCGTGTCGAACGCGTGTCACCGGCAGGGCGTGTCGCGTGTCGGCGTGTCGCGTGTCAGCGTGTCACAGCGTGTCGGAAAGGGGCGAAGGTCGCGTGTCCCTGGGCGCGTGTCGAGCGTGTCCCGCGTGTCGCGTGTCGCGTGTCCGCGTGTCAGCGTGTCCGCGTGTCAGCGTGTCGCGTGTCACGAGCGTGTCGGCGTGTCTGCTTATTGCGTGTCCGGCGTGTCTGCGTGTCTACGCGTGTCAGCGTGTCTTGCGTGTCCGGGCGCGTGTCGGCGTGTCCCGCTGATGCGTGTCGCGTGTCTCAGGCGTGTCAGCGTGTCTCCCGCGTGTCAATGGGCGACGTGCGTGTCCGATGGTTTGCGTGTCAGCGCGTGTCGTGAACTCGGCCGCTATGCGTGTCCCCCGGCGTGTCCGTAGCAGCGTGTCCAGCGTGTCGCACGCGTGTCGCTGCCTCGGCGTGTCCATTTGTGCGTGTCGGCGTGTCCAGCGTGTCGCGTGTCTGCGTGTCGTCGCGTGTCAGCGTGTCTGCGTGTCGCGTGTCCGCGTGTCGCGTGTCTCATGGCGTGTCGCGTGTCCGTAATTGCAGCCGTGCGTGTCGGGCGTGTCGCGTGTCGGAAGAGACTCGCGTGTCGTGCGCGTGTCGGCGTGTCGACGGCGTGTCGCGTGTCCAGCGTGTCGGCGTGTCGACGATGCGTGTCTTTGTGCGTGTCCGCGTGTCTGGCGTGTCAGCGTGTCGCTGCGTGTCTGCCTGCGTGTCGCGCGTGTCGCGTGTCGCGTGTCCGCGATTGACGGATTTGGCGTGTCTGGAATCGCGTGTCAGCGTGTCGGCGGAGCGTGTCGCGTGTCTTAGCGTGTCGGGCGTGTCAGCGTGTCTGCGTGTCGTTACCGCGTGTCTCAACGCGTGTCAGCGTGTCGGGCGTGTCCCCGGCGTGTCGCTGCGTGTCGCGTGTCTTGAGCGTGTCGATTTTGCGTGTCTGCGTGTCTCTACGTTGCGTGTCCAGCATCGCGTGTCTGCCGCGTGTCTGGCAGCGTGTCATGGCGTGTCGCGTGTCACCGGCAAAAGCGTGTCTAGCGTGTCCGGCCCGGCGTGTCATAGCGTGTCCGCGTGTCTGCGTGTCGGCGTGTCGCGTGTCTCAGTTTATAGCGTGTCGCGTGTCCGCGTGTCGAGCGTGTCTCGCGTGTCGCGTGTCCGTGGCGTGTCGCGTGTCGAGGTAGGCGTGTCTGGCGTGTCAGGTGGTCACTGGCGTGTCGTCTCTGCGTGTCTGCGTGTCACGCGTGTCAGCGTGTCCATGCGTGTCAACTTGCGTGTCTGCGTGTCAGTTGCGTGTCTCGGATGCGTGTCCTACTGGCGTGTCTAGCGTGTCATGAGCGCGTGTCCGCGTGTCGCGTGTCGCGAGGCGTGTCCGTGTACAGAAAGTGCGTGTCTGCGTGTCGCGTGTCGGCTAGCGTGTCGCGTGTCGTTCGTGATCATTTTGTGCGTGTCAGCGTGTCGTAGCGTGTCATCGGCTGGGTGCGTGTCGCGTGTCAACGCGTGTCCGCGTGTCAGCGTGTCGCGTGTCGCGTGTCGCGCGTGTCGCGTGTCGCGTGTCTATCGCGCGTGTCGCGTGTCGCGTGTCAACCTGTAATTGTTGCGTGTCTCACGCGTGTCGGCGCGTGTCTCCAGCGTGTCGGTGCGTGTCATTCTGTGCGCGTGTCCGGTGCTTGGCGTGTCTAGCGTGTCGCGCGTGTCATTGCGTGTCTGCCGTCGCGTGTCAATCAGCGTGTCAACGAGCGTGTCATGCGCGTGTCAGAGATTGCGTGTCTAGCGTGTCGCGTGTCCGACAGGCGTGTCAAGCGTGTCAATGGCGTGTCGGCGTGTCGCGTGTCAGCGTGTCGCGTGTCCGCGTGTCACGGGCGTGTCGCGTGTCACGCGTGTCGGCGTGTCCGCGTGTCGTTAAAAGCGTGTCCCCGGCGTGTCGGCGTGTCAAGCGTGTCCGGCGTGTCGCGTGTCAACATTGCGTGTCGAAGCGACACCGCGTGTCCCTCGCGTGTCTGCGTGTCCCTACGCGTGTCCGTGCGTGTCTGCGTGTCGCGTGTCGCGTGTCTGTACTAATGGCGTGTCTGTGCACGAATGGCGTGTCTGCGTGTCTCTAGCGTGTCCGCGTGTCGCGTGTCGCGTGTCTGCGTGTCAGCGTGTCAGCGTGTCATCTTTTGTATGGCGTGTCGCGTGTCAGCGTGTCCAAAGCGTGTCTGCGTGTCGCGTGTCATGCGTGTCCAGAGCGTGTCCAGGCGTGTCGTGGCGTGTCGCGTGTCGCGTGTCCCGCGTGTCGCGTGTCGCGTGTCATGCCCGAGCGTGTCGCGTGTCAGGCGTGTCCGGCGTGTCGCGTGTCGCGTGTCGAGCGTGTCGCGTGTCGCGTGTCGCGTGTCCCGCGTGTCAGCGTGTCCGCGTGTCGTTCCGGCGTGTCTTATGTGTGGTGCGTGTCGCGTGTCACTACGCGTGTCGGCGTGTCGCGTGTCGCGTGTCTTCTTGCGTGTCCGCGTGTCAGGCGTGTCTGCGCGTGTCTTTAGCGTGTCTGCGTGTCTCGCGTGTCTGCGTGTCGCGTGTCGGCGTGTCGCGTGTCAGGGCGTGTCTCCCAAAGTCTACTTCTGCGTGTCCACGCGTGTCATGCGTGTCTCGGGGCGTGTCGAGGGGGCGTGTCTACGCGTGTCATGCGATCTCGGTTATGCGCTGCGTGTCTCAAGGCGTGTCCTCAGCGTGTCATCCGGGGCGTGTCGGGCGTGTCCGCGTGTCTGGCGTGTCGCGTGTCGCGTGTCCCGCGTGTCTCGCGTGTCACGTGCACGCGTGTCTGCGTGTCGTGCGTGTCGCGTGTCTGCGTGTCACGGCGTGTCCGATCGCTGCGTGTCCCGCGTGTCGCGTGTCTGCGTGTCGCGTGTCTGGGCGTGTCCGGTGCGTGTCTGCGTGTCTCAGCGTGTCCTTCTGGGCGTGTCGCGTGTCGACTATGCGTGTCGCGTGTCCACGCGTGTCGGCGTGTCACAAGCGTGTCCCAGCGTGTCGAAAGAGCCGCGTGTCAGTGCGTGTCCTCGCGTGTCCTAGCGTGTCAAGCGTGTCCGCGTGTCGGGCGTGTCAGAGCGTGTCGGCAAGCGTGTCTGGGGATTGCGTGTCGCGGCGTGTCGCAAAGCGTGTCAGCTGCGTGTCGTGCGTGTCGCGTGTCCGTTGGCGTGTCGCACCGTCTGCGTGTCGAGCGTGTCGCGTGTCCGCGTGTCATAAGCGTGTCGGAAGACATAGCCCGGGCGTGTCGGGCGTGTCTCTTGGGCGTGTCTTGCGTGTCGGGCGTGTCCGCGCGTGTCCCAGCGTGTCGGCGTGTCTCGGGGATATTAGCGTGTCGCGTGTCAGTGACCTAGCGTGTCGCGGTGCGTGTCTTGTCAGCGTGTCCCGCGTGTCGGGCGTGTCGCGTGTCCTGCGTGTCGCGTGTCTTTGTAAGGCGTGTCGTCGCGTGTCGAGCGTGTCGCGTGTCGCGTGTCGTGCGTGTCGAGCGTGTCGTGCGTGTCTGCGCGTGTCTGCGTGTCTGCGTGTCGCGTGTCGCGTGTCCGGCGTGTCACGACGAAGGCGTGTCGGCGTGTCTAAGGCGTGTCTCGCGTGTCTCCGCGTGTCGAGGCGTGTCTCGCGTGTCACGCGTGTCGCGTGTCTGCGTGTCTGCGTGTCTGCGTGTCACCTGCGTGTCGGCGTGTCGCGTGTCTGGCAGCGTGTCAGCGTGTCGCGTGTCCGCGTGTCCGCGTGTCTGCGTGTCGCGTGTCATACAGGCGTGTCTGCGTGTCAAAGCTGCTGCGTGTCACAATTAGCGTGTCGGCGTGTCGGCGGAAGTTCGGCGTGTCACGCGTGTCGACGCGTGTCTCTAGGGGGTCCTGGGAAATTGCGTGTCGAAGCGTGTCGCGTGTCGCGTGTCCATCTCGGAGCGTGTCGTGAGCGTGTCGCGCGTGTCGCGTGTCGGGCGTGTCACAGGATCGCGTGTCGTGGTTAGGCGTGTCATGCGTGTCCGCGTGTCGCGTGTCGAGGCGTGTCTATAAGCGTGTCTGGGAGCGTGTCGCGTGTCTTAGGCGTGTCTGCGTGTCGTCAAAAGCGGGCGTGTCTAGGCGTTCGGGCGTGTCGCGTGTCCGCGTGTCGGCGTGTCCCGAGCGTGTCGCGTGTCACGCGTGTCGAGGGCCTCAGTCGCGTGTCAGCGTGTCGCGTGTCGTACGCGTGTCCGCGTGTCATGCGTGTCCAGCGTGTCTGCGTGTCTGCGTGTCGACTTGTATAGTGCGTGTCAAAGTGCGTGTCTGGGCGTGTCGCGTGTCGCGTGTCTACCGGGGCGGCGTGTCCCCGCGTGTCGGCGTGTCGCGTGTCTGCGTGTCTGCGTGTCGCTCCTCTGGCGTGTCCCAAGCGTGTCGGCGTGTCGGCGCGTGTCGGCGTGTCGCGTGTCGCGTGTCTGAGCGTGTCATAAGCGTGTCGCGTGTCAGAGCAAGTGCGTGTCACGCGTGTCGCGTGTCGCGTGTCCCTCAAATAAAACAAGCGTGTCGCGTGTCAGCGGCGTGTCGCGTGTCCCGCGTGTCGCGTGTCCTAAAAGCGTGTCGCGTGTCCACTGGCGTGTCGCGTGTCTGCGTGTCTAGCGTGTCAAGGGCGTGTCAGCGTGTCTCTGTGAGCGTGTCCCTAGCGTGTCGCGTGTCGCGTGTCCGCGTGTCAGCGTGTCGCGTGTCGCGTGTCGCGTGTCAAGCGTGTCGGGCGTGTCGCGTGTCTTGCGTGTCGTGCGTGTCTAAACGCGTGTCAGCGTGTCGCGTGTCGGCGTGTCATGCGTGTCGCGTGTCCGCGTGTCATCCCTCGGCGTGTCATCCAGCGTGTCGCGTGTCAATTGCACAAGCGCGTGTCATTGGGCGTGTCGGTTGATGCGTGTCCGAGCGTGTCGCCGGCGTGTCAGCGTGTCAAAGAGGCGTGTCTCCAGCGTGTCTGAAGGCGTGTCGGCGTGTCTGCTCTGTTGCGCGTGTCGCGTGTCGCTGGCGTGTCCGCGTGTCGGGCGTGTCGCGCGTGTCGGCGCGTGTCTGCGTGTCAGTACTGCGCGTGTCACACAGCGTGTCGCACGCGTGTCTGGCGTGTCGGTCCAATAGCGTGTCTGCCCTATCGCGTGTCTGCGTGTCGCGTGTCGGCGTGTCGCGTGTCGAAGCGTGTCTCATTGCGTGTCCGAGTATGCGTGTCGCGTGTCGGTATGCGTGTCACCGGCCGCGTGCGTGTCCGCGTGTCGCGCGTGTCCGCGTGTCCCTAGTGCGTGTCGCGTGTCGCGTGTCTATGGCGTGTCTGCTAAGGCGTGTCAAGAGTTAGTGCGTGTCTGCGTGTCAATGGTCTACGCGTGTCCCGCGTGTCGCGTGTCTTTGCGTGTCTCTCCTGCGTGTCGCGTGTCCGCGTGTCGTTAGAACGGCGTGTCGCGTGTCGCGTGTCGCGTGTCGCGTGTCTCCAGCATAATTAGCGTGTCTGCGTGTCTAAATGGCGTGTCCGCGTGTCTCATCGCGTGTCGCGTGTCAGCGTGTCGCGTGTCGCCAGCGTGTCATTCTCCTATCGACAGCGTGTCATGCGTGTCCTGGGACTCCATGCGTGTCGCGTGTCCGGCGTGTCTGCGTGTCAATCGCGTGTCAGGTCCGCGTGTCGTGCAGCGTGTCCAGCGTGTCTCTGCGTGTCGCATGATCGGGCGTGTCGGCGTGTCGCGTGTCTATACGGCTCCGCGTGTCGTTCAGCGTGTCGCGTGTCACGCGTGTCCTTGTGGCGTGTCGCGTGTCGCTGCGTGTCGCGTGTCGCGTGTCGCGTGTCGCGTGTCACGCGTGTCCAATAGCTACCGCTGCGTGTCCGCTGCGTGTCGGCGTGTCGCGTGTCAGACCCAGCTGACGCGTGTCGCGTGTCAGCGTGTCAGACTGTTGCGTGTCGCGTGTCCTACACGTGCGTGTCTAGCAAGCGTGTCTGCGTGTCGAGCGTGTCGCGTGTCCAGGTTGCGTGTCTAAGCGCGTGTCCGCGTGTCGGCGTGTCCGCGTGTCAAGCGTGTCCGACAATGCGTGTCGCGTGTCCGGCGTGTCCGCGTGTCATGCGTGTCGCGTGTCAGAGCGTGTCGAGCGTGTCGCGTGTCTGCGTGTCAGGGCGGGCGTGTCTAGCGTGTCGGGGCGTGTCTGCGTAGCGTGTCGCGTGTCTACGGGTACGCCCTTGCGTGTCGCGTGTCGGCGTGTCTTGGCGTGTCGCGTGTCGCGTGTCATGTGCGTGTCGTTGAAGACCTTAAGGCGTGTCAGCGTGTCGCGTGTCGCGTGTCAGCGCGTGTCCTCCCAGGCGTGTCGCGTGTCGCGTGTCTGGACAGTGCGTGTCGCGTGTCGCGTGTCGATACCTGCGTGTCGCAGATGCGTGTCACCCCCCTTATAGCGTGTCGTAGCGTGTCAATGTGCGTGTCACGTGCGTGTCAGTCGCGTGTCAGCGTGTCGCGTGTCCGCGTGTCGGCGTGTCTCAGCGTGTCCCGCGTGTCGACTCTTGCGTGTCCCACGCGTGTCCAACGCGTGTCGCGTGTCTCGCGTGTCCGCGTGTCGTGCGTGTCCTCTGCGTGTCACAAGCGTGTCAGCGTGTCGGCGTGTCGCGTGTCAAATACGCGTGTCGCAGGCGTGTCGGGGCGTGTCGCGTGTCCTGGTTGCGTGTCGTAACTTGCGTGTCACGCGTGTCTATGGCGTGTCTCATTGCGTGTCGCGTGTCGCGTGTCGCGTGTCAGCGTGTCGAAGTTGGCGTGTCGCGTGTCTAGGCGTGTCCCGCGTGTCTCGGCGTGTCTCATGCGTGTCATGCGTGTCTCCATTCGCGTGTCGCGTGTCACGCGTGTCAAGTGCTATAAGCCGCGTGTCCCAAGAAATTGCGTGTCACCTTATCGCGTGTCGCGTGTCAGCGTGTCCGCGTGTCGGGCGTGTCCGCGTGTCAGTTTCCCGAATGGGTGCGTGTCGCGTGTCGCGTGTCCGCGTGTCCGCGTTGCGTGTCAGCGTGTCCCGCACCGCGTGTCGCGTGTCGGGCGTGTCTGCTGCGTGTCCGCGTGTCCGCGTGTCTGGTGCGTGTCGCGTGTCTAGCGGACCAGCGTGTCTCGCGTGTCCCTTATAGAACTACAGCGTGTCAGGCGTGTCGCCGGTAGGCCACGGTAAGATGCGTGTCTGCGTGTCGCGTGTCTAAGAGCGTGTCGCGTGTCGCGTGTCAGCGTGTCGTCTAATAGTTAAGCGTGTCAGCGTGTCACAACAGCGTGTCAGTAGGCGTGTCTCTTGCGTGTCGCTCAAGCGTGTCGGCGTGTCCTGCGTGTCCCCATGGAAACGCCGCGTGTCGCGTGTCAGCGTGTCGCGTGTCGACAGCGTGTCTTATATGGCGTGTCCGCAGGCGTGTCAGCTGCGTGTCGGCGTGTCGCGTGTCCCGCGTGTCGGCGTGTCGCGTGTCAGGCGAGCGCGTGTCGTCGCGCGTGTCGCGTGTCCTGCGTGTCAACGCGTGTC\"\n",
    "pattern = \"GCGTGTCGC\"\n",
    "\n",
    "data = [i for i in findall(pattern, sequence)]\n",
    "' '.join([str(pos) for pos in data])"
   ]
  },
  {
   "cell_type": "markdown",
   "metadata": {},
   "source": [
    "#### Exercise: Return a space-separated list of starting positions (in increasing order) where CTTGATCAT appears as a substring in the Vibrio cholerae genome."
   ]
  },
  {
   "cell_type": "code",
   "execution_count": 317,
   "metadata": {},
   "outputs": [
    {
     "name": "stdout",
     "output_type": "stream",
     "text": [
      "60039 98409 129189 152283 152354 152411 163207 197028 200160 357976 376771 392723 532935 600085 622755 1065555\n"
     ]
    }
   ],
   "source": [
    "pattern = \"CTTGATCAT\"\n",
    "with open(\"Vibrio_cholerae.txt\", \"r\") as f:\n",
    "    _genome = f.read()\n",
    "    _data  = [i for i in findall(pattern, _genome)]\n",
    "    print (' '.join([str(pos) for pos in _data]))\n",
    "    \n",
    "f.close()"
   ]
  },
  {
   "attachments": {},
   "cell_type": "markdown",
   "metadata": {},
   "source": [
    "## 1.6 Looking for hidden messages in multiple genomes\n",
    "- New genomes may use a completely different hidden message\n",
    "- We should try to find every k-mer that forms a clump in the genome\n",
    "    - Defined a k-mer as a \"clump\" if it appears many times within a short interval of the genome.\n",
    "    - given integers L and t, a k-mer Pattern forms an (L, t)-clump inside a (longer) string Genome if there is an interval of Genome of length L in which this k-mer appears at least t times. \n",
    "\n",
    "\n",
    "- We culd apply CountFreq to each window of length L in Genome, but the running time would be O(L2 · k · |Genome|).\n",
    "\n",
    "- A more efficient method:\n",
    "    - Similar to One Hot encoding \n",
    "    1. order all 4k k-mers lexicographically;\n",
    "    2. convert them into the 4k different integers between 0 and 4k − 1;\n",
    "    3. Given an integer k, we define the frequency array of a string Text as an array of length 4k, where the i-th element of the array holds the number of times that the i-th k-mer (in the lexicographic order) appears in Text (see figure below).\n",
    "![one-hot.png](image/one-hot.png)"
   ]
  },
  {
   "attachments": {},
   "cell_type": "markdown",
   "metadata": {},
   "source": [
    "#### Exercise: Compute PatternToNumber(ATGCAA). \n",
    "![e1.5.png](image/e1.5.png)"
   ]
  },
  {
   "cell_type": "code",
   "execution_count": 318,
   "metadata": {},
   "outputs": [],
   "source": [
    "_dict = {'A':0, \n",
    "         'C':1, \n",
    "         'G':2, \n",
    "         'T':3}\n",
    "\n",
    "def PatternToNumber(pattern):\n",
    "    \n",
    "    number = 0\n",
    "    _len = len(pattern)-1\n",
    "    for i in range(_len,-1,-1):\n",
    "        number += (4**i)*_dict[pattern[_len-i]]\n",
    "\n",
    "    return number"
   ]
  },
  {
   "cell_type": "code",
   "execution_count": 319,
   "metadata": {},
   "outputs": [
    {
     "data": {
      "text/plain": [
       "75481056095"
      ]
     },
     "execution_count": 319,
     "metadata": {},
     "output_type": "execute_result"
    }
   ],
   "source": [
    "PatternToNumber(\"CACGCATAACCGAATCCTT\")"
   ]
  },
  {
   "cell_type": "markdown",
   "metadata": {},
   "source": [
    "#### Exercise: Compute NumberToPattern(5437, 7). \n",
    "Divide the final number (5437 in this case) by the base, 4,  k = 7 times, the remainders would be the original pattern:\n",
    "    - 5437 / 4 = 1359 R 1\n",
    "    - 1359 / 4 = 339 R 3\n",
    "    - 339 / 4 = 84 R 3\n",
    "    - 84 / 4 = 21 R 0\n",
    "    - 21 / 4 = 5 R 1\n",
    "    - 5 / 4 = 1 R 1\n",
    "    - 1 / 4 = 0 R 1\n",
    "So the answer would be 'CCCATTC'. We could also do this w/ Python"
   ]
  },
  {
   "cell_type": "code",
   "execution_count": 320,
   "metadata": {},
   "outputs": [],
   "source": [
    "_dict2 = {0:'A', \n",
    "         1:'C', \n",
    "         2:'G', \n",
    "         3:'T'}\n",
    "\n",
    "def NumberToPattern(num, length):\n",
    "    pattern = \"\"\n",
    "    \n",
    "    while num > 0:\n",
    "        div = num//4\n",
    "        mod = num % 4\n",
    "        pattern = _dict2[mod] + pattern\n",
    "        num = div\n",
    "        \n",
    "    # if pattern length exceeds the number of times that the number could be divided,\n",
    "    # no matter how many times we divide it, it would be 0.\n",
    "    while len(pattern) < length:\n",
    "            pattern = _dict2[0] + pattern\n",
    "    \n",
    "    return pattern"
   ]
  },
  {
   "cell_type": "code",
   "execution_count": 321,
   "metadata": {},
   "outputs": [
    {
     "data": {
      "text/plain": [
       "'AACTTGCTT'"
      ]
     },
     "execution_count": 321,
     "metadata": {},
     "output_type": "execute_result"
    }
   ],
   "source": [
    "NumberToPattern(8095,9)"
   ]
  },
  {
   "attachments": {},
   "cell_type": "markdown",
   "metadata": {},
   "source": [
    "### Clump Finding Problem\n",
    "http://bioinformaticsalgorithms.com/data/debugdatasets/replication/ClumpFindingProblem.pdf\n",
    "\n",
    "![clump%20finding.png](image/clump%20finding.png)"
   ]
  },
  {
   "cell_type": "code",
   "execution_count": 322,
   "metadata": {},
   "outputs": [],
   "source": [
    "def kmerPositions(k, sequence):\n",
    "    \"\"\" returns the position of all k-mers in sequence as a dictionary\"\"\"\n",
    "    sequence = sequence.upper()\n",
    "    position = {}\n",
    "    for i in range(1,len(sequence)-k+1):\n",
    "        kmer = sequence[i : i+k]\n",
    "        position[kmer] = position.get(kmer,[])+[i]\n",
    "    # combine kmers and their reverse complements\n",
    "    pairPosition = {}\n",
    "    for kmer in position.keys():\n",
    "        # find the reverse complementary \n",
    "        krev = ''.join([{'A':'T','C':'G','G':'C','T':'A'}[base] for base in reversed(kmer)])\n",
    "        # alphabetic order of kmer and krev\n",
    "        if (kmer <= krev):\n",
    "            pairPosition[kmer] = position[kmer] + position.get(krev,[])\n",
    "        else:\n",
    "            pairPosition[krev] = position[kmer]\n",
    "    #print(\"Pair positions:\\n\", pairPosition)\n",
    "    return pairPosition"
   ]
  },
  {
   "cell_type": "code",
   "execution_count": 323,
   "metadata": {},
   "outputs": [],
   "source": [
    "def findClumps(string, k, L, t):\n",
    "    \n",
    "    clumps = []\n",
    "    kmers = kmerPositions(k, string)\n",
    "    \n",
    "    for kmer, position in kmers.items():\n",
    "        i = 0\n",
    "        while (i <= len(position)-t):\n",
    "            found = 1\n",
    "            for j in range(i+1, len(position)):\n",
    "                if (((position[j]+k) - position[i]) <= L):\n",
    "                    found += 1\n",
    "                else:\n",
    "                    found += 1\n",
    "            if (found >= t):\n",
    "                clumps.append(kmer)\n",
    "            i = j\n",
    "    return clumps"
   ]
  },
  {
   "cell_type": "code",
   "execution_count": 324,
   "metadata": {},
   "outputs": [
    {
     "data": {
      "text/plain": [
       "['CGACA', 'GAAGA']"
      ]
     },
     "execution_count": 324,
     "metadata": {},
     "output_type": "execute_result"
    }
   ],
   "source": [
    "genome = \"CGGACTCGACAGATGTGAAGAACGACAATGTGAAGACTCGACACGACAGAGTGAAGAGAAGAGGAAACATTGTAA\"\n",
    "findClumps(genome,5,50,4)"
   ]
  },
  {
   "cell_type": "code",
   "execution_count": 325,
   "metadata": {},
   "outputs": [],
   "source": [
    "# How many different 9-mers form (500,3)-clumps in the E. coli genome? \n",
    "# (In other words, do not count a 9-mer more than once.)\n",
    "\n",
    "with open(\"E_coli.txt\", \"r\") as f:\n",
    "    _genome = f.read()\n",
    "    clumps = findClumps(_genome,9,500,3)\n",
    "    uniq_c = set(clumps)\n",
    "    length_c = len(clumps)\n",
    "    length_u = len(uniq_c)\n",
    "f.close()"
   ]
  },
  {
   "cell_type": "code",
   "execution_count": 326,
   "metadata": {},
   "outputs": [
    {
     "data": {
      "text/plain": [
       "123357"
      ]
     },
     "execution_count": 326,
     "metadata": {},
     "output_type": "execute_result"
    }
   ],
   "source": [
    "length_c"
   ]
  },
  {
   "cell_type": "code",
   "execution_count": 327,
   "metadata": {},
   "outputs": [
    {
     "data": {
      "text/plain": [
       "123357"
      ]
     },
     "execution_count": 327,
     "metadata": {},
     "output_type": "execute_result"
    }
   ],
   "source": [
    "length_u"
   ]
  },
  {
   "attachments": {},
   "cell_type": "markdown",
   "metadata": {},
   "source": [
    "## 1.7 A quicker Frequency Finding Algorithn\n",
    "Use dynamic programming + an encoded K-mer table.\\\n",
    "E.g. Lexicographic order of DNA 2-mers (top), along with the index of each k-mer in this order (middle), and the frequency array for AAGCAAAGGTGGG (bottom). For example, the frequency array at index 10 is equal to 3 because GG, the tenth DNA 2-mer according to lexicographic order, occurs three times in AAGCAAAGGTGGG.\n",
    "![count_frequent.png](image/count_frequent.png)"
   ]
  },
  {
   "cell_type": "code",
   "execution_count": 328,
   "metadata": {},
   "outputs": [],
   "source": [
    "def ComputingFrequencies1(Text,k):\n",
    "    \n",
    "    _frequency_dict = {}\n",
    "    for i in range(len(Text)-k):\n",
    "        _frequency_dict[Text[i:i+k]] = _frequency_dict.get(Text[i:i+k],0)+1\n",
    "    \n",
    "    return _frequency_dict"
   ]
  },
  {
   "cell_type": "code",
   "execution_count": 329,
   "metadata": {},
   "outputs": [
    {
     "data": {
      "text/plain": [
       "{'AA': 3, 'AG': 2, 'GC': 1, 'CA': 1, 'GG': 2, 'GT': 1, 'TG': 1}"
      ]
     },
     "execution_count": 329,
     "metadata": {},
     "output_type": "execute_result"
    }
   ],
   "source": [
    "ComputingFrequencies1(\"AAGCAAAGGTGGG\",2)"
   ]
  },
  {
   "cell_type": "code",
   "execution_count": 330,
   "metadata": {},
   "outputs": [],
   "source": [
    "# A version that \"encodes\" the sequence to a frequency list\n",
    "def ComputingFrequencies2(Text,k):\n",
    "    _frequency_array = [0]*(4**k)\n",
    "    for i in range(len(Text)-k+1):\n",
    "        Pattern = Text[i:i+k]\n",
    "        number = PatternToNumber(Pattern)\n",
    "        _frequency_array[number] += 1 \n",
    "    return _frequency_array\n"
   ]
  },
  {
   "cell_type": "code",
   "execution_count": 331,
   "metadata": {},
   "outputs": [
    {
     "data": {
      "text/plain": [
       "'3 0 2 0 1 0 0 0 0 1 3 1 0 0 1 0'"
      ]
     },
     "execution_count": 331,
     "metadata": {},
     "output_type": "execute_result"
    }
   ],
   "source": [
    "comptfreq_input = \"AAGCAAAGGTGGG\"\n",
    "\" \".join(str(num) for num in ComputingFrequencies2(comptfreq_input,2))"
   ]
  },
  {
   "cell_type": "code",
   "execution_count": 335,
   "metadata": {},
   "outputs": [],
   "source": [
    "#comptfreq_input = \"ATCAGGAAATAAACAGTCTTTTCGCTCTCAAGATCCTGGTTGCGTCGGCATGCTCTTAAGGCTCTGGCGTAAGGTTGAAGTGACAAAATGCTGTCCTGGCCGTCGTGCGTTTTCTGCCTGTTCAACATGCCGGTGTGGTATGTATGCAAGAAAAGTTTGGATATTTGACGGGCTCCTTCGATATGGCACGAAGGGAACTATGTCAAGAGGATTGTACGGACAAAGGACCCGTTCCAACTTGATATCTTCAGTCTTATCTCCATATACAAACCAATACCAAGATGACTTACGCTCCCTTGCATATTGGGTGTAAAGCCGAGGGGTGGATTGGGCGCGCTAGGCAGTTAACCGCCCTCATATAATCACATCCAGCACTGTTCCCTAGATGATAGGATCGCGTTCGGTGAGTTATCTTCCCACCCTTACATCGAGGCAGTAACGTTTAGCATATAAGGGTCTTTAAGACGGTTAGGAGCGAGCTAGGATGTAGTAATTCCAACCTATGGGTGGCGCCAAGTTTATAACGGACGTAGCTTAGTGATGAACACAGTCTGGTTAGTTGTGATAAACTTTTCAGGTACGGAACAGAGGCAGAACCTCTCTTTCATATATAAAGTTGACAGTGGTCGATATCCGTGGGACATTGATTGATTGGAGCGGTAGAGTCATCCTAACAGGCGCCACAAACTACCTTGAATAGTGTCACAAATATTGTAGTCAGAGGTGTAGGATAGTAGGGGAAGTGGTACAGAGAGGGATTATGAGTTTTAG\"\n",
    "#\" \".join(str(num) for num in ComputingFrequencies2(comptfreq_input,7))"
   ]
  },
  {
   "cell_type": "code",
   "execution_count": null,
   "metadata": {},
   "outputs": [],
   "source": []
  }
 ],
 "metadata": {
  "kernelspec": {
   "display_name": "Python 3",
   "language": "python",
   "name": "python3"
  },
  "language_info": {
   "codemirror_mode": {
    "name": "ipython",
    "version": 3
   },
   "file_extension": ".py",
   "mimetype": "text/x-python",
   "name": "python",
   "nbconvert_exporter": "python",
   "pygments_lexer": "ipython3",
   "version": "3.7.6"
  }
 },
 "nbformat": 4,
 "nbformat_minor": 4
}
