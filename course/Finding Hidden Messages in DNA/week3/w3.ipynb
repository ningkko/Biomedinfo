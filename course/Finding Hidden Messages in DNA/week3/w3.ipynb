{
 "cells": [
  {
   "cell_type": "markdown",
   "metadata": {},
   "source": [
    "# Which DNA Patterns Serve as Molecular Clocks?\n",
    "## 1.1 Do We Have a \"Clock\" Gene?\n",
    "*How do individual cells in animals and plants, let alone bacteria, know when they should slow down or increase the production of certain proteins?*\n",
    "- Every plant cell keeps track of day and night independently of other cells with three plant genes called LHY, CCA1, and TOC1.\n",
    "- LHY, CCA1, and TOC1 are able to control the transcription of other genes because the regulatory proteins that they encode are transcription factors, or master regulatory proteins that turn other genes on and off. \n",
    "- A transcription factor regulates a gene by binding to a specific short DNA interval called a regulatory motif, or transcription factor binding site, in the gene's upstream region, a 600-1000 nucleotide-long region preceding the start of the gene. For example, CCA1 binds to AAAAAATCT in the upstream region of many genes regulated by CCA1."
   ]
  },
  {
   "cell_type": "markdown",
   "metadata": {},
   "source": [
    "## 1.2 The Motif Finding Algorithm\n",
    "Find all (k, d)-motifs in a collection of strings.\n",
    "\n",
    "- Input: A collection of strings Dna, and integers k and d. \\\n",
    "- Output: All (k, d)-motifs in Dna."
   ]
  },
  {
   "cell_type": "code",
   "execution_count": null,
   "metadata": {},
   "outputs": [],
   "source": []
  }
 ],
 "metadata": {
  "kernelspec": {
   "display_name": "Python 3",
   "language": "python",
   "name": "python3"
  },
  "language_info": {
   "codemirror_mode": {
    "name": "ipython",
    "version": 3
   },
   "file_extension": ".py",
   "mimetype": "text/x-python",
   "name": "python",
   "nbconvert_exporter": "python",
   "pygments_lexer": "ipython3",
   "version": "3.7.6"
  }
 },
 "nbformat": 4,
 "nbformat_minor": 4
}
